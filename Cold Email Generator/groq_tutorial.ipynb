{
 "cells": [
  {
   "cell_type": "code",
   "execution_count": null,
   "id": "fd51297a-da46-4811-9561-2b3638d53fba",
   "metadata": {},
   "outputs": [],
   "source": [
    "!pip install langchain"
   ]
  },
  {
   "cell_type": "code",
   "execution_count": null,
   "id": "3bce18dd-5c78-4e03-a4ac-7cec210a9377",
   "metadata": {},
   "outputs": [],
   "source": [
    "!pip install langchain-groq"
   ]
  },
  {
   "cell_type": "code",
   "execution_count": null,
   "id": "32335cec-5b47-4d3e-b2c1-253573e6e5cb",
   "metadata": {},
   "outputs": [],
   "source": [
    "from langchain_groq import ChatGroq\n",
    "llm = ChatGroq(\n",
    "    temperature = 0,\n",
    "    groq_api_key = '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',\n",
    "    model_name = 'llama-3.1-70b-versatile'\n",
    ")\n",
    "\n",
    "response = llm.invoke(\"Who was the first man on the moon?\")"
   ]
  },
  {
   "cell_type": "code",
   "execution_count": null,
   "id": "8c187172-4ee4-4c61-8971-9c460da30619",
   "metadata": {},
   "outputs": [],
   "source": [
    "response.content"
   ]
  },
  {
   "cell_type": "code",
   "execution_count": null,
   "id": "53a12b3f-a887-497c-9c88-38ac68313a3d",
   "metadata": {},
   "outputs": [],
   "source": []
  }
 ],
 "metadata": {
  "kernelspec": {
   "display_name": "Python 3 (ipykernel)",
   "language": "python",
   "name": "python3"
  },
  "language_info": {
   "codemirror_mode": {
    "name": "ipython",
    "version": 3
   },
   "file_extension": ".py",
   "mimetype": "text/x-python",
   "name": "python",
   "nbconvert_exporter": "python",
   "pygments_lexer": "ipython3",
   "version": "3.12.4"
  }
 },
 "nbformat": 4,
 "nbformat_minor": 5
}
